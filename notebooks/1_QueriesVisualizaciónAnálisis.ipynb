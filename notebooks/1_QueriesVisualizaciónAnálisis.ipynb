{
 "cells": [
  {
   "cell_type": "markdown",
   "metadata": {},
   "source": [
    "# Notebook #1: Queries, Visualización y Análisis\n",
    "\n",
    "- En este notebook realizaremos consultas sobre nuestra base de datos y las usaremos para analizar nuestros datos, generarando visualizaciones que nos permitan entender mejor lo que sucede.\n",
    "\n",
    "- El primer paso será importar las librerías necesarias:"
   ]
  },
  {
   "cell_type": "code",
   "execution_count": 475,
   "metadata": {},
   "outputs": [],
   "source": [
    "# Librerías para tratamiento de datos y cálculos estadísticos\n",
    "\n",
    "import pandas as pd\n",
    "import numpy as np\n",
    "from scipy import stats\n",
    "pd.set_option('display.max_columns', None) # Parámetro que modifica la visualización de los DFs\n",
    "\n",
    "# Librería para el acceso a variables y funciones\n",
    "import sys\n",
    "sys.path.append(\"../\")\n",
    "\n",
    "#Archivo .py donde encontraremos todas nuestras funciones y variables.\n",
    "from src import soporte_funciones as sf \n",
    "from src import soporte_abtesting as st\n",
    "#from src import soporte_variables as sv\n",
    "\n",
    "# Librería para trabajar con bases de datos SQL\n",
    "import psycopg2\n",
    "from psycopg2 import OperationalError, errorcodes, errors\n",
    "\n",
    "# Librerías para graficar\n",
    "import seaborn as sns\n",
    "import matplotlib.pyplot as plt\n",
    "import seaborn as sns\n",
    "\n",
    "# Librería para ignorar avisos\n",
    "import warnings\n",
    "warnings.filterwarnings(\"ignore\") # Ignora TODOS los avisos"
   ]
  },
  {
   "cell_type": "markdown",
   "metadata": {},
   "source": [
    "### Objeto del Análisis \n",
    "\n",
    "- Antes de plantearnos las queries que pretendemos realizar, debemos recordar que el objetivo del proyecto, que es determnar si el nuevo recomendador tiene un impacto significativo en el comportamiento de los usuarios, específicamente en términos de tiempo de visualización y engagement. Recordaremos también la estructura de los datos.\n",
    "\n",
    "\n",
    "#### Diagrama Entidad Relación\n",
    "\n",
    "<img src=\"../images/Diagrama_ER.png\" width=\"400\">\n",
    "\n",
    "- Para ejecutar nuestras queries, haremos uso de la función `sf.dbeaver_fetch()`, que recibe como argumentos la conexión a DBeaver (usamos la función `sf.dbeaver_conexion()`) y la query. El nombre que hemos asignado a la base de datos es `streaming_project`.\n",
    "\n",
    "- Empezaremos por realizar una query que nos permita quedarnos con la información que necesitamos, habiendo detectado que se encuentra en 4 tablas: *users, views, user_interactions y content*."
   ]
  },
  {
   "cell_type": "code",
   "execution_count": 476,
   "metadata": {},
   "outputs": [],
   "source": [
    "query=\"\"\" \n",
    "SELECT u.id AS id_usuario,\n",
    "user_type AS tipo_usuario,\n",
    "u.recommendation_system AS sistema_usuario,\n",
    "c.id AS id_contenido,c.duration AS duracion_contenido,\n",
    "c.content_type AS tipo_contenido,\n",
    "c.rating AS valoraciones,\n",
    "v.user_id AS numero_sesion,\n",
    "v.content_id AS recomendaciones_vistas,\n",
    "duration_viewed AS minutos_sesion,\n",
    "v.recommendation_system AS sistema_sesion,\n",
    "ui.id AS numero_interaccion,\n",
    "ui.content_id AS id_contenido_interaccion,\n",
    "ui.interaction_type AS tipo_interaccion,\n",
    "r.content_id AS recomendaciones_totales,\n",
    "v.view_date AS fecha_sesion\n",
    "\n",
    "FROM users u \n",
    "INNER JOIN \"views\" v ON u.id = v.user_id \n",
    "INNER JOIN user_interactions ui ON u.id = ui.user_id \n",
    "INNER JOIN \"content\" c ON c.id = v.content_id\n",
    "INNER JOIN \"recommendations\" r on r.\"user_id\" = u.id;\n",
    "\n",
    "\"\"\""
   ]
  },
  {
   "cell_type": "code",
   "execution_count": 477,
   "metadata": {},
   "outputs": [
    {
     "data": {
      "text/html": [
       "<div>\n",
       "<style scoped>\n",
       "    .dataframe tbody tr th:only-of-type {\n",
       "        vertical-align: middle;\n",
       "    }\n",
       "\n",
       "    .dataframe tbody tr th {\n",
       "        vertical-align: top;\n",
       "    }\n",
       "\n",
       "    .dataframe thead th {\n",
       "        text-align: right;\n",
       "    }\n",
       "</style>\n",
       "<table border=\"1\" class=\"dataframe\">\n",
       "  <thead>\n",
       "    <tr style=\"text-align: right;\">\n",
       "      <th></th>\n",
       "      <th>id_usuario</th>\n",
       "      <th>tipo_usuario</th>\n",
       "      <th>sistema_usuario</th>\n",
       "      <th>id_contenido</th>\n",
       "      <th>duracion_contenido</th>\n",
       "      <th>tipo_contenido</th>\n",
       "      <th>valoraciones</th>\n",
       "      <th>numero_sesion</th>\n",
       "      <th>recomendaciones_vistas</th>\n",
       "      <th>minutos_sesion</th>\n",
       "      <th>sistema_sesion</th>\n",
       "      <th>numero_interaccion</th>\n",
       "      <th>id_contenido_interaccion</th>\n",
       "      <th>tipo_interaccion</th>\n",
       "      <th>recomendaciones_totales</th>\n",
       "      <th>fecha_sesion</th>\n",
       "    </tr>\n",
       "  </thead>\n",
       "  <tbody>\n",
       "    <tr>\n",
       "      <th>0</th>\n",
       "      <td>214</td>\n",
       "      <td>moderator</td>\n",
       "      <td>Recomendeitor_Plus</td>\n",
       "      <td>153</td>\n",
       "      <td>92</td>\n",
       "      <td>movie</td>\n",
       "      <td>2.5</td>\n",
       "      <td>214</td>\n",
       "      <td>153</td>\n",
       "      <td>107</td>\n",
       "      <td>Recomendeitor</td>\n",
       "      <td>64</td>\n",
       "      <td>50</td>\n",
       "      <td>like</td>\n",
       "      <td>69</td>\n",
       "      <td>2021-12-31</td>\n",
       "    </tr>\n",
       "    <tr>\n",
       "      <th>1</th>\n",
       "      <td>214</td>\n",
       "      <td>moderator</td>\n",
       "      <td>Recomendeitor_Plus</td>\n",
       "      <td>153</td>\n",
       "      <td>92</td>\n",
       "      <td>movie</td>\n",
       "      <td>2.5</td>\n",
       "      <td>214</td>\n",
       "      <td>153</td>\n",
       "      <td>107</td>\n",
       "      <td>Recomendeitor</td>\n",
       "      <td>446</td>\n",
       "      <td>80</td>\n",
       "      <td>favorite</td>\n",
       "      <td>69</td>\n",
       "      <td>2021-12-31</td>\n",
       "    </tr>\n",
       "    <tr>\n",
       "      <th>2</th>\n",
       "      <td>214</td>\n",
       "      <td>moderator</td>\n",
       "      <td>Recomendeitor_Plus</td>\n",
       "      <td>153</td>\n",
       "      <td>92</td>\n",
       "      <td>movie</td>\n",
       "      <td>2.5</td>\n",
       "      <td>214</td>\n",
       "      <td>153</td>\n",
       "      <td>107</td>\n",
       "      <td>Recomendeitor</td>\n",
       "      <td>559</td>\n",
       "      <td>91</td>\n",
       "      <td>like</td>\n",
       "      <td>69</td>\n",
       "      <td>2021-12-31</td>\n",
       "    </tr>\n",
       "    <tr>\n",
       "      <th>3</th>\n",
       "      <td>214</td>\n",
       "      <td>moderator</td>\n",
       "      <td>Recomendeitor_Plus</td>\n",
       "      <td>153</td>\n",
       "      <td>92</td>\n",
       "      <td>movie</td>\n",
       "      <td>2.5</td>\n",
       "      <td>214</td>\n",
       "      <td>153</td>\n",
       "      <td>107</td>\n",
       "      <td>Recomendeitor</td>\n",
       "      <td>1112</td>\n",
       "      <td>21</td>\n",
       "      <td>favorite</td>\n",
       "      <td>69</td>\n",
       "      <td>2021-12-31</td>\n",
       "    </tr>\n",
       "    <tr>\n",
       "      <th>4</th>\n",
       "      <td>214</td>\n",
       "      <td>moderator</td>\n",
       "      <td>Recomendeitor_Plus</td>\n",
       "      <td>153</td>\n",
       "      <td>92</td>\n",
       "      <td>movie</td>\n",
       "      <td>2.5</td>\n",
       "      <td>214</td>\n",
       "      <td>153</td>\n",
       "      <td>107</td>\n",
       "      <td>Recomendeitor</td>\n",
       "      <td>1271</td>\n",
       "      <td>180</td>\n",
       "      <td>share</td>\n",
       "      <td>69</td>\n",
       "      <td>2021-12-31</td>\n",
       "    </tr>\n",
       "    <tr>\n",
       "      <th>...</th>\n",
       "      <td>...</td>\n",
       "      <td>...</td>\n",
       "      <td>...</td>\n",
       "      <td>...</td>\n",
       "      <td>...</td>\n",
       "      <td>...</td>\n",
       "      <td>...</td>\n",
       "      <td>...</td>\n",
       "      <td>...</td>\n",
       "      <td>...</td>\n",
       "      <td>...</td>\n",
       "      <td>...</td>\n",
       "      <td>...</td>\n",
       "      <td>...</td>\n",
       "      <td>...</td>\n",
       "      <td>...</td>\n",
       "    </tr>\n",
       "    <tr>\n",
       "      <th>14920</th>\n",
       "      <td>967</td>\n",
       "      <td>admin</td>\n",
       "      <td>Recomendeitor_Plus</td>\n",
       "      <td>192</td>\n",
       "      <td>109</td>\n",
       "      <td>documentary</td>\n",
       "      <td>1.2</td>\n",
       "      <td>967</td>\n",
       "      <td>192</td>\n",
       "      <td>52</td>\n",
       "      <td>Recomendeitor_Plus</td>\n",
       "      <td>281</td>\n",
       "      <td>29</td>\n",
       "      <td>favorite</td>\n",
       "      <td>81</td>\n",
       "      <td>2021-08-15</td>\n",
       "    </tr>\n",
       "    <tr>\n",
       "      <th>14921</th>\n",
       "      <td>477</td>\n",
       "      <td>admin</td>\n",
       "      <td>Recomendeitor</td>\n",
       "      <td>185</td>\n",
       "      <td>108</td>\n",
       "      <td>live</td>\n",
       "      <td>2.0</td>\n",
       "      <td>477</td>\n",
       "      <td>185</td>\n",
       "      <td>164</td>\n",
       "      <td>Recomendeitor</td>\n",
       "      <td>1062</td>\n",
       "      <td>183</td>\n",
       "      <td>comment</td>\n",
       "      <td>19</td>\n",
       "      <td>2021-01-26</td>\n",
       "    </tr>\n",
       "    <tr>\n",
       "      <th>14922</th>\n",
       "      <td>477</td>\n",
       "      <td>admin</td>\n",
       "      <td>Recomendeitor</td>\n",
       "      <td>185</td>\n",
       "      <td>108</td>\n",
       "      <td>live</td>\n",
       "      <td>2.0</td>\n",
       "      <td>477</td>\n",
       "      <td>185</td>\n",
       "      <td>164</td>\n",
       "      <td>Recomendeitor</td>\n",
       "      <td>1807</td>\n",
       "      <td>16</td>\n",
       "      <td>share</td>\n",
       "      <td>19</td>\n",
       "      <td>2021-01-26</td>\n",
       "    </tr>\n",
       "    <tr>\n",
       "      <th>14923</th>\n",
       "      <td>477</td>\n",
       "      <td>admin</td>\n",
       "      <td>Recomendeitor</td>\n",
       "      <td>185</td>\n",
       "      <td>108</td>\n",
       "      <td>live</td>\n",
       "      <td>2.0</td>\n",
       "      <td>477</td>\n",
       "      <td>185</td>\n",
       "      <td>164</td>\n",
       "      <td>Recomendeitor</td>\n",
       "      <td>1062</td>\n",
       "      <td>183</td>\n",
       "      <td>comment</td>\n",
       "      <td>80</td>\n",
       "      <td>2021-01-26</td>\n",
       "    </tr>\n",
       "    <tr>\n",
       "      <th>14924</th>\n",
       "      <td>477</td>\n",
       "      <td>admin</td>\n",
       "      <td>Recomendeitor</td>\n",
       "      <td>185</td>\n",
       "      <td>108</td>\n",
       "      <td>live</td>\n",
       "      <td>2.0</td>\n",
       "      <td>477</td>\n",
       "      <td>185</td>\n",
       "      <td>164</td>\n",
       "      <td>Recomendeitor</td>\n",
       "      <td>1807</td>\n",
       "      <td>16</td>\n",
       "      <td>share</td>\n",
       "      <td>80</td>\n",
       "      <td>2021-01-26</td>\n",
       "    </tr>\n",
       "  </tbody>\n",
       "</table>\n",
       "<p>14925 rows × 16 columns</p>\n",
       "</div>"
      ],
      "text/plain": [
       "       id_usuario tipo_usuario     sistema_usuario  id_contenido  \\\n",
       "0             214    moderator  Recomendeitor_Plus           153   \n",
       "1             214    moderator  Recomendeitor_Plus           153   \n",
       "2             214    moderator  Recomendeitor_Plus           153   \n",
       "3             214    moderator  Recomendeitor_Plus           153   \n",
       "4             214    moderator  Recomendeitor_Plus           153   \n",
       "...           ...          ...                 ...           ...   \n",
       "14920         967        admin  Recomendeitor_Plus           192   \n",
       "14921         477        admin       Recomendeitor           185   \n",
       "14922         477        admin       Recomendeitor           185   \n",
       "14923         477        admin       Recomendeitor           185   \n",
       "14924         477        admin       Recomendeitor           185   \n",
       "\n",
       "       duracion_contenido tipo_contenido valoraciones  numero_sesion  \\\n",
       "0                      92          movie          2.5            214   \n",
       "1                      92          movie          2.5            214   \n",
       "2                      92          movie          2.5            214   \n",
       "3                      92          movie          2.5            214   \n",
       "4                      92          movie          2.5            214   \n",
       "...                   ...            ...          ...            ...   \n",
       "14920                 109    documentary          1.2            967   \n",
       "14921                 108           live          2.0            477   \n",
       "14922                 108           live          2.0            477   \n",
       "14923                 108           live          2.0            477   \n",
       "14924                 108           live          2.0            477   \n",
       "\n",
       "       recomendaciones_vistas  minutos_sesion      sistema_sesion  \\\n",
       "0                         153             107       Recomendeitor   \n",
       "1                         153             107       Recomendeitor   \n",
       "2                         153             107       Recomendeitor   \n",
       "3                         153             107       Recomendeitor   \n",
       "4                         153             107       Recomendeitor   \n",
       "...                       ...             ...                 ...   \n",
       "14920                     192              52  Recomendeitor_Plus   \n",
       "14921                     185             164       Recomendeitor   \n",
       "14922                     185             164       Recomendeitor   \n",
       "14923                     185             164       Recomendeitor   \n",
       "14924                     185             164       Recomendeitor   \n",
       "\n",
       "       numero_interaccion  id_contenido_interaccion tipo_interaccion  \\\n",
       "0                      64                        50             like   \n",
       "1                     446                        80         favorite   \n",
       "2                     559                        91             like   \n",
       "3                    1112                        21         favorite   \n",
       "4                    1271                       180            share   \n",
       "...                   ...                       ...              ...   \n",
       "14920                 281                        29         favorite   \n",
       "14921                1062                       183          comment   \n",
       "14922                1807                        16            share   \n",
       "14923                1062                       183          comment   \n",
       "14924                1807                        16            share   \n",
       "\n",
       "       recomendaciones_totales fecha_sesion  \n",
       "0                           69   2021-12-31  \n",
       "1                           69   2021-12-31  \n",
       "2                           69   2021-12-31  \n",
       "3                           69   2021-12-31  \n",
       "4                           69   2021-12-31  \n",
       "...                        ...          ...  \n",
       "14920                       81   2021-08-15  \n",
       "14921                       19   2021-01-26  \n",
       "14922                       19   2021-01-26  \n",
       "14923                       80   2021-01-26  \n",
       "14924                       80   2021-01-26  \n",
       "\n",
       "[14925 rows x 16 columns]"
      ]
     },
     "execution_count": 477,
     "metadata": {},
     "output_type": "execute_result"
    }
   ],
   "source": [
    "df_st = sf.dbeaver_fetch(sf.dbeaver_conexion(\"streaming_project\"),query)\n",
    "df_st"
   ]
  },
  {
   "cell_type": "markdown",
   "metadata": {},
   "source": [
    "- Realizaremos comprobaciones de nulos, duplicados y tipos de datos."
   ]
  },
  {
   "cell_type": "code",
   "execution_count": 478,
   "metadata": {},
   "outputs": [
    {
     "data": {
      "text/plain": [
       "np.int64(44)"
      ]
     },
     "execution_count": 478,
     "metadata": {},
     "output_type": "execute_result"
    }
   ],
   "source": [
    "df_st.duplicated().sum()"
   ]
  },
  {
   "cell_type": "code",
   "execution_count": 479,
   "metadata": {},
   "outputs": [
    {
     "data": {
      "text/plain": [
       "id_usuario                  0\n",
       "tipo_usuario                0\n",
       "sistema_usuario             0\n",
       "id_contenido                0\n",
       "duracion_contenido          0\n",
       "tipo_contenido              0\n",
       "valoraciones                0\n",
       "numero_sesion               0\n",
       "recomendaciones_vistas      0\n",
       "minutos_sesion              0\n",
       "sistema_sesion              0\n",
       "numero_interaccion          0\n",
       "id_contenido_interaccion    0\n",
       "tipo_interaccion            0\n",
       "recomendaciones_totales     0\n",
       "fecha_sesion                0\n",
       "dtype: int64"
      ]
     },
     "execution_count": 479,
     "metadata": {},
     "output_type": "execute_result"
    }
   ],
   "source": [
    "df_st.isnull().sum()"
   ]
  },
  {
   "cell_type": "code",
   "execution_count": 480,
   "metadata": {},
   "outputs": [
    {
     "data": {
      "text/plain": [
       "id_usuario                   int64\n",
       "tipo_usuario                object\n",
       "sistema_usuario             object\n",
       "id_contenido                 int64\n",
       "duracion_contenido           int64\n",
       "tipo_contenido              object\n",
       "valoraciones                object\n",
       "numero_sesion                int64\n",
       "recomendaciones_vistas       int64\n",
       "minutos_sesion               int64\n",
       "sistema_sesion              object\n",
       "numero_interaccion           int64\n",
       "id_contenido_interaccion     int64\n",
       "tipo_interaccion            object\n",
       "recomendaciones_totales      int64\n",
       "fecha_sesion                object\n",
       "dtype: object"
      ]
     },
     "execution_count": 480,
     "metadata": {},
     "output_type": "execute_result"
    }
   ],
   "source": [
    "df_st.dtypes"
   ]
  },
  {
   "cell_type": "markdown",
   "metadata": {},
   "source": [
    "- Agrupamos para que cada fila represente a un usuario, y no una sesión:"
   ]
  },
  {
   "cell_type": "code",
   "execution_count": 481,
   "metadata": {},
   "outputs": [],
   "source": [
    "# Tratar formatos de columnas\n",
    "#df_st[\"fecha_interaccion\"] = pd.to_datetime(df_st[\"fecha_interaccion\"], errors='coerce')"
   ]
  },
  {
   "cell_type": "code",
   "execution_count": 482,
   "metadata": {},
   "outputs": [],
   "source": [
    "df_users = df_st.groupby(\"id_usuario\").agg({\n",
    "    'tipo_usuario': 'first',  \n",
    "    'sistema_usuario': 'first',  \n",
    "    'id_contenido': lambda x: list(set(x)),  \n",
    "    'duracion_contenido': 'sum',  \n",
    "    'tipo_contenido': lambda x: list(set(x)),  \n",
    "    'valoraciones': lambda x: list(set(x)),  \n",
    "    'numero_sesion': 'count',\n",
    "    'recomendaciones_vistas': lambda x: x.nunique(),  \n",
    "    'minutos_sesion': 'sum',  \n",
    "    'sistema_sesion': lambda x: list(set(x)),  \n",
    "    'recomendaciones_totales': lambda x: x.nunique(),\n",
    "    'fecha_sesion': lambda x: list(set(x)) \n",
    "}).reset_index()"
   ]
  },
  {
   "cell_type": "code",
   "execution_count": 483,
   "metadata": {},
   "outputs": [
    {
     "data": {
      "text/html": [
       "<div>\n",
       "<style scoped>\n",
       "    .dataframe tbody tr th:only-of-type {\n",
       "        vertical-align: middle;\n",
       "    }\n",
       "\n",
       "    .dataframe tbody tr th {\n",
       "        vertical-align: top;\n",
       "    }\n",
       "\n",
       "    .dataframe thead th {\n",
       "        text-align: right;\n",
       "    }\n",
       "</style>\n",
       "<table border=\"1\" class=\"dataframe\">\n",
       "  <thead>\n",
       "    <tr style=\"text-align: right;\">\n",
       "      <th></th>\n",
       "      <th>index</th>\n",
       "      <th>id_usuario</th>\n",
       "      <th>tipo_usuario</th>\n",
       "      <th>sistema_usuario</th>\n",
       "      <th>id_contenido</th>\n",
       "      <th>duracion_contenido</th>\n",
       "      <th>tipo_contenido</th>\n",
       "      <th>valoraciones</th>\n",
       "      <th>numero_sesion</th>\n",
       "      <th>recomendaciones_vistas</th>\n",
       "      <th>minutos_sesion</th>\n",
       "      <th>sistema_sesion</th>\n",
       "      <th>recomendaciones_totales</th>\n",
       "      <th>fecha_sesion</th>\n",
       "    </tr>\n",
       "  </thead>\n",
       "  <tbody>\n",
       "    <tr>\n",
       "      <th>181</th>\n",
       "      <td>181</td>\n",
       "      <td>248</td>\n",
       "      <td>admin</td>\n",
       "      <td>Recomendeitor_Plus</td>\n",
       "      <td>[135]</td>\n",
       "      <td>78</td>\n",
       "      <td>[movie]</td>\n",
       "      <td>[3.9]</td>\n",
       "      <td>1</td>\n",
       "      <td>1</td>\n",
       "      <td>10</td>\n",
       "      <td>[Recomendeitor]</td>\n",
       "      <td>1</td>\n",
       "      <td>[2022-08-16]</td>\n",
       "    </tr>\n",
       "    <tr>\n",
       "      <th>661</th>\n",
       "      <td>661</td>\n",
       "      <td>883</td>\n",
       "      <td>moderator</td>\n",
       "      <td>Recomendeitor</td>\n",
       "      <td>[131, 52]</td>\n",
       "      <td>306</td>\n",
       "      <td>[series, short]</td>\n",
       "      <td>[2.5, 2.4]</td>\n",
       "      <td>6</td>\n",
       "      <td>2</td>\n",
       "      <td>639</td>\n",
       "      <td>[Recomendeitor_Plus]</td>\n",
       "      <td>1</td>\n",
       "      <td>[2021-03-24, 2022-10-14]</td>\n",
       "    </tr>\n",
       "    <tr>\n",
       "      <th>139</th>\n",
       "      <td>139</td>\n",
       "      <td>192</td>\n",
       "      <td>content_creator</td>\n",
       "      <td>Recomendeitor_Plus</td>\n",
       "      <td>[101, 168, 47, 19, 52, 26]</td>\n",
       "      <td>3512</td>\n",
       "      <td>[live, series, movie, documentary]</td>\n",
       "      <td>[5.0, 4.8, 2.4, 4.9, 2.7]</td>\n",
       "      <td>48</td>\n",
       "      <td>6</td>\n",
       "      <td>4520</td>\n",
       "      <td>[Recomendeitor_Plus, Recomendeitor]</td>\n",
       "      <td>4</td>\n",
       "      <td>[2022-05-16, 2021-12-26, 2022-05-29, 2022-12-0...</td>\n",
       "    </tr>\n",
       "  </tbody>\n",
       "</table>\n",
       "</div>"
      ],
      "text/plain": [
       "     index  id_usuario     tipo_usuario     sistema_usuario  \\\n",
       "181    181         248            admin  Recomendeitor_Plus   \n",
       "661    661         883        moderator       Recomendeitor   \n",
       "139    139         192  content_creator  Recomendeitor_Plus   \n",
       "\n",
       "                   id_contenido  duracion_contenido  \\\n",
       "181                       [135]                  78   \n",
       "661                   [131, 52]                 306   \n",
       "139  [101, 168, 47, 19, 52, 26]                3512   \n",
       "\n",
       "                         tipo_contenido               valoraciones  \\\n",
       "181                             [movie]                      [3.9]   \n",
       "661                     [series, short]                 [2.5, 2.4]   \n",
       "139  [live, series, movie, documentary]  [5.0, 4.8, 2.4, 4.9, 2.7]   \n",
       "\n",
       "     numero_sesion  recomendaciones_vistas  minutos_sesion  \\\n",
       "181              1                       1              10   \n",
       "661              6                       2             639   \n",
       "139             48                       6            4520   \n",
       "\n",
       "                          sistema_sesion  recomendaciones_totales  \\\n",
       "181                      [Recomendeitor]                        1   \n",
       "661                 [Recomendeitor_Plus]                        1   \n",
       "139  [Recomendeitor_Plus, Recomendeitor]                        4   \n",
       "\n",
       "                                          fecha_sesion  \n",
       "181                                       [2022-08-16]  \n",
       "661                           [2021-03-24, 2022-10-14]  \n",
       "139  [2022-05-16, 2021-12-26, 2022-05-29, 2022-12-0...  "
      ]
     },
     "execution_count": 483,
     "metadata": {},
     "output_type": "execute_result"
    }
   ],
   "source": [
    "df_users = df_users.reset_index()\n",
    "df_users.sample(3)"
   ]
  },
  {
   "cell_type": "markdown",
   "metadata": {},
   "source": [
    "- Calculamos nuevas métricas:\n",
    "1. valoración promedio de los contenidos\n",
    "2. duración promedio de la sesión\n",
    "3. porcentaje de contenido finalizado\n",
    "4. sesiones promedio por semana\n",
    "5. click through rate (CTR)"
   ]
  },
  {
   "cell_type": "code",
   "execution_count": 484,
   "metadata": {},
   "outputs": [],
   "source": [
    "df_users[\"avg_valoracion\"] = df_users[\"valoraciones\"].apply(lambda x: round(np.mean(x),2) if isinstance(x, list) else np.nan)\n",
    "df_users.drop(columns=\"valoraciones\", inplace=True)\n",
    "\n",
    "df_users[\"duracion_prom_sesion\"] = round(df_users[\"minutos_sesion\"]/df_users[\"numero_sesion\"],2)\n",
    "df_users[\"porcentaje_finalizado\"] = round(df_users[\"minutos_sesion\"]/df_users[\"duracion_contenido\"]*100,2)\n",
    "df_users[\"avg_sesiones_semana\"] = df_users[\"fecha_sesion\"].apply(\n",
    "    lambda fechas: len(fechas) / pd.to_datetime(fechas, errors='coerce').to_series().dt.to_period(\"W\").nunique()\n",
    "    if pd.to_datetime(fechas, errors='coerce').to_series().dt.to_period(\"W\").nunique() > 0 else 0\n",
    ")\n",
    "df_users[\"click_rate\"] = round(df_users[\"recomendaciones_vistas\"] / df_users[\"recomendaciones_totales\"],2)\n"
   ]
  },
  {
   "cell_type": "markdown",
   "metadata": {},
   "source": [
    "- Si bien es cierto en algunos casos el porcentaje de contenido finalizado es mayor al 100%, esto puede deberse a usuarios que repiten el contenido o comparten una cuenta con otro miembro del hogar (ej: una pareja usa el mismo usuario para ver contenido)."
   ]
  },
  {
   "cell_type": "code",
   "execution_count": 492,
   "metadata": {},
   "outputs": [
    {
     "data": {
      "text/plain": [
       "tipo_usuario\n",
       "content_creator    198\n",
       "consumer           194\n",
       "admin              187\n",
       "moderator          178\n",
       "Name: count, dtype: int64"
      ]
     },
     "execution_count": 492,
     "metadata": {},
     "output_type": "execute_result"
    }
   ],
   "source": [
    "df_users[\"tipo_usuario\"].value_counts()"
   ]
  },
  {
   "cell_type": "code",
   "execution_count": 493,
   "metadata": {},
   "outputs": [
    {
     "data": {
      "text/html": [
       "<div>\n",
       "<style scoped>\n",
       "    .dataframe tbody tr th:only-of-type {\n",
       "        vertical-align: middle;\n",
       "    }\n",
       "\n",
       "    .dataframe tbody tr th {\n",
       "        vertical-align: top;\n",
       "    }\n",
       "\n",
       "    .dataframe thead th {\n",
       "        text-align: right;\n",
       "    }\n",
       "</style>\n",
       "<table border=\"1\" class=\"dataframe\">\n",
       "  <thead>\n",
       "    <tr style=\"text-align: right;\">\n",
       "      <th></th>\n",
       "      <th>index</th>\n",
       "      <th>id_usuario</th>\n",
       "      <th>tipo_usuario</th>\n",
       "      <th>sistema_usuario</th>\n",
       "      <th>id_contenido</th>\n",
       "      <th>duracion_contenido</th>\n",
       "      <th>tipo_contenido</th>\n",
       "      <th>numero_sesion</th>\n",
       "      <th>recomendaciones_vistas</th>\n",
       "      <th>minutos_sesion</th>\n",
       "      <th>sistema_sesion</th>\n",
       "      <th>recomendaciones_totales</th>\n",
       "      <th>fecha_sesion</th>\n",
       "      <th>avg_valoracion</th>\n",
       "      <th>duracion_prom_sesion</th>\n",
       "      <th>porcentaje_finalizado</th>\n",
       "      <th>avg_sesiones_semana</th>\n",
       "      <th>click_rate</th>\n",
       "    </tr>\n",
       "  </thead>\n",
       "  <tbody>\n",
       "    <tr>\n",
       "      <th>185</th>\n",
       "      <td>185</td>\n",
       "      <td>255</td>\n",
       "      <td>consumer</td>\n",
       "      <td>Recomendeitor_Plus</td>\n",
       "      <td>[196, 86]</td>\n",
       "      <td>1208</td>\n",
       "      <td>[series]</td>\n",
       "      <td>8</td>\n",
       "      <td>2</td>\n",
       "      <td>1156</td>\n",
       "      <td>[Recomendeitor_Plus, Recomendeitor]</td>\n",
       "      <td>2</td>\n",
       "      <td>[2022-10-18, 2022-06-08]</td>\n",
       "      <td>2.55</td>\n",
       "      <td>144.50</td>\n",
       "      <td>95.70</td>\n",
       "      <td>1.0</td>\n",
       "      <td>1.00</td>\n",
       "    </tr>\n",
       "    <tr>\n",
       "      <th>285</th>\n",
       "      <td>285</td>\n",
       "      <td>390</td>\n",
       "      <td>consumer</td>\n",
       "      <td>Recomendeitor_Plus</td>\n",
       "      <td>[169, 44, 198, 87]</td>\n",
       "      <td>734</td>\n",
       "      <td>[live, series, short]</td>\n",
       "      <td>8</td>\n",
       "      <td>4</td>\n",
       "      <td>258</td>\n",
       "      <td>[Recomendeitor]</td>\n",
       "      <td>2</td>\n",
       "      <td>[2021-04-05, 2022-03-29, 2022-07-17, 2022-08-13]</td>\n",
       "      <td>2.18</td>\n",
       "      <td>32.25</td>\n",
       "      <td>35.15</td>\n",
       "      <td>1.0</td>\n",
       "      <td>2.00</td>\n",
       "    </tr>\n",
       "    <tr>\n",
       "      <th>306</th>\n",
       "      <td>306</td>\n",
       "      <td>420</td>\n",
       "      <td>consumer</td>\n",
       "      <td>Recomendeitor</td>\n",
       "      <td>[197, 5, 189]</td>\n",
       "      <td>2304</td>\n",
       "      <td>[live, series, movie]</td>\n",
       "      <td>24</td>\n",
       "      <td>3</td>\n",
       "      <td>2600</td>\n",
       "      <td>[Recomendeitor_Plus, Recomendeitor]</td>\n",
       "      <td>4</td>\n",
       "      <td>[2022-05-01, 2022-02-26, 2022-04-27]</td>\n",
       "      <td>4.05</td>\n",
       "      <td>108.33</td>\n",
       "      <td>112.85</td>\n",
       "      <td>1.5</td>\n",
       "      <td>0.75</td>\n",
       "    </tr>\n",
       "  </tbody>\n",
       "</table>\n",
       "</div>"
      ],
      "text/plain": [
       "     index  id_usuario tipo_usuario     sistema_usuario        id_contenido  \\\n",
       "185    185         255     consumer  Recomendeitor_Plus           [196, 86]   \n",
       "285    285         390     consumer  Recomendeitor_Plus  [169, 44, 198, 87]   \n",
       "306    306         420     consumer       Recomendeitor       [197, 5, 189]   \n",
       "\n",
       "     duracion_contenido         tipo_contenido  numero_sesion  \\\n",
       "185                1208               [series]              8   \n",
       "285                 734  [live, series, short]              8   \n",
       "306                2304  [live, series, movie]             24   \n",
       "\n",
       "     recomendaciones_vistas  minutos_sesion  \\\n",
       "185                       2            1156   \n",
       "285                       4             258   \n",
       "306                       3            2600   \n",
       "\n",
       "                          sistema_sesion  recomendaciones_totales  \\\n",
       "185  [Recomendeitor_Plus, Recomendeitor]                        2   \n",
       "285                      [Recomendeitor]                        2   \n",
       "306  [Recomendeitor_Plus, Recomendeitor]                        4   \n",
       "\n",
       "                                         fecha_sesion avg_valoracion  \\\n",
       "185                          [2022-10-18, 2022-06-08]           2.55   \n",
       "285  [2021-04-05, 2022-03-29, 2022-07-17, 2022-08-13]           2.18   \n",
       "306              [2022-05-01, 2022-02-26, 2022-04-27]           4.05   \n",
       "\n",
       "     duracion_prom_sesion  porcentaje_finalizado  avg_sesiones_semana  \\\n",
       "185                144.50                  95.70                  1.0   \n",
       "285                 32.25                  35.15                  1.0   \n",
       "306                108.33                 112.85                  1.5   \n",
       "\n",
       "     click_rate  \n",
       "185        1.00  \n",
       "285        2.00  \n",
       "306        0.75  "
      ]
     },
     "execution_count": 493,
     "metadata": {},
     "output_type": "execute_result"
    }
   ],
   "source": [
    "df_users.sample(3)"
   ]
  },
  {
   "cell_type": "code",
   "execution_count": 486,
   "metadata": {},
   "outputs": [],
   "source": [
    "df_users.to_csv(\"../datos/streaming.csv\")"
   ]
  },
  {
   "cell_type": "markdown",
   "metadata": {},
   "source": [
    "- Vemos que, los usuarios se encuentran bastante repartidos entre los dos sistemas (52% en Recomendeitor y 48% en Recomendeitor_Plus), pero debemos recordar que para algunos test, expecíficamente Wilcoxon, los tamaños muestrales deben ser los mismos."
   ]
  },
  {
   "cell_type": "code",
   "execution_count": 488,
   "metadata": {},
   "outputs": [
    {
     "data": {
      "text/plain": [
       "sistema_usuario\n",
       "Recomendeitor         52.44\n",
       "Recomendeitor_Plus    47.56\n",
       "Name: proportion, dtype: float64"
      ]
     },
     "execution_count": 488,
     "metadata": {},
     "output_type": "execute_result"
    }
   ],
   "source": [
    "round(df_users[\"sistema_usuario\"].value_counts(normalize=True)*100, 2)"
   ]
  },
  {
   "cell_type": "markdown",
   "metadata": {},
   "source": [
    "### Comprobamos duración promedio de sesión"
   ]
  },
  {
   "cell_type": "code",
   "execution_count": 510,
   "metadata": {},
   "outputs": [
    {
     "data": {
      "image/png": "[encoded data removed]",
      "text/plain": [
       "<Figure size 1000x500 with 2 Axes>"
      ]
     },
     "metadata": {},
     "output_type": "display_data"
    }
   ],
   "source": [
    "sf.histogramas_homocedasticidad(df_users, \"sistema_usuario\", \"duracion_prom_sesion\")"
   ]
  },
  {
   "cell_type": "markdown",
   "metadata": {},
   "source": [
    "A la vista, es una distribución normal, pero podemos confirmarlo."
   ]
  },
  {
   "cell_type": "code",
   "execution_count": 508,
   "metadata": {},
   "outputs": [
    {
     "name": "stdout",
     "output_type": "stream",
     "text": [
      "Para el grupo Recomendeitor_Plus: 5 p-valores mayores a 0.05 que siguen una distribución normal, y 0 p-valores menores a 0.05, por lo que no siguen una distribución normal.\n",
      "Para el grupo Recomendeitor: 4 p-valores mayores a 0.05 que siguen una distribución normal, y 1 p-valores menores a 0.05, por lo que no siguen una distribución normal.\n"
     ]
    }
   ],
   "source": [
    "sf.iteraciones_normalidad(df_users, \"sistema_usuario\", \"duracion_prom_sesion\")"
   ]
  },
  {
   "cell_type": "markdown",
   "metadata": {},
   "source": [
    "Dada una distribución normal, comprobamos su homocedasticidad."
   ]
  },
  {
   "cell_type": "code",
   "execution_count": 511,
   "metadata": {},
   "outputs": [
    {
     "name": "stdout",
     "output_type": "stream",
     "text": [
      "BartlettResult(statistic=np.float64(0.0006829798759128148), pvalue=np.float64(0.9791505510216468))\n"
     ]
    }
   ],
   "source": [
    "sf.test_homocedasticidad(df_users, \"sistema_usuario\", \"duracion_prom_sesion\", \"barlett\")"
   ]
  },
  {
   "cell_type": "code",
   "execution_count": 515,
   "metadata": {},
   "outputs": [
    {
     "name": "stdout",
     "output_type": "stream",
     "text": [
      "Estadístico t: -0.3407211332248994\n",
      "Valor p: 0.733408313588688\n",
      "El p-valor de la prueba es 0.73, por lo tanto, no hay evidencia de diferencias significativas entre los grupos.\n"
     ]
    }
   ],
   "source": [
    "parametricas = st.Pruebas_parametricas(\"sistema_usuario\", \"duracion_prom_sesion\", df_users)\n",
    "parametricas.test_t()"
   ]
  },
  {
   "cell_type": "markdown",
   "metadata": {},
   "source": [
    "### Comprobamos distribución número sesiones"
   ]
  },
  {
   "cell_type": "code",
   "execution_count": 516,
   "metadata": {},
   "outputs": [
    {
     "data": {
      "image/png": "[encoded data removed]",
      "text/plain": [
       "<Figure size 1000x500 with 2 Axes>"
      ]
     },
     "metadata": {},
     "output_type": "display_data"
    }
   ],
   "source": [
    "sf.histogramas_homocedasticidad(df_users, \"sistema_usuario\", \"numero_sesion\")"
   ]
  },
  {
   "cell_type": "markdown",
   "metadata": {},
   "source": [
    "- Es evidente que no sigue una distribución normal, pero podemos comprobarlo."
   ]
  },
  {
   "cell_type": "code",
   "execution_count": 523,
   "metadata": {},
   "outputs": [
    {
     "name": "stdout",
     "output_type": "stream",
     "text": [
      "Para el grupo Recomendeitor_Plus: 0 p-valores mayores a 0.05 que siguen una distribución normal, y 5 p-valores menores a 0.05, por lo que no siguen una distribución normal.\n",
      "Para el grupo Recomendeitor: 0 p-valores mayores a 0.05 que siguen una distribución normal, y 5 p-valores menores a 0.05, por lo que no siguen una distribución normal.\n"
     ]
    }
   ],
   "source": [
    "sf.iteraciones_normalidad(df_users,\"sistema_usuario\",\"numero_sesion\", 5)"
   ]
  },
  {
   "cell_type": "code",
   "execution_count": 520,
   "metadata": {},
   "outputs": [
    {
     "name": "stdout",
     "output_type": "stream",
     "text": [
      "Test Mann-Whitney\n",
      "Siendo el p-valor 0.5692, no existen diferencias significativas entre los grupos.\n"
     ]
    }
   ],
   "source": [
    "grupos_sesiones = sf.crear_df_grupos(df_users, \"sistema_usuario\", \"numero_sesion\")\n",
    "sf.elegir_test(grupos_sesiones)"
   ]
  },
  {
   "cell_type": "markdown",
   "metadata": {},
   "source": [
    "### Comprobamos porcentaje finalizado"
   ]
  },
  {
   "cell_type": "code",
   "execution_count": 518,
   "metadata": {},
   "outputs": [
    {
     "data": {
      "image/png": "[encoded data removed]",
      "text/plain": [
       "<Figure size 1000x500 with 2 Axes>"
      ]
     },
     "metadata": {},
     "output_type": "display_data"
    }
   ],
   "source": [
    "sf.histogramas_homocedasticidad(df_users, \"sistema_usuario\", \"porcentaje_finalizado\")"
   ]
  },
  {
   "cell_type": "code",
   "execution_count": 521,
   "metadata": {},
   "outputs": [
    {
     "name": "stdout",
     "output_type": "stream",
     "text": [
      "Test Mann-Whitney\n",
      "Siendo el p-valor 0.636, no existen diferencias significativas entre los grupos.\n"
     ]
    }
   ],
   "source": [
    "grupos_sesiones = sf.crear_df_grupos(df_users, \"sistema_usuario\", \"porcentaje_finalizado\")\n",
    "sf.elegir_test(grupos_sesiones)"
   ]
  },
  {
   "cell_type": "markdown",
   "metadata": {},
   "source": [
    "### Comprobamos distribución CTR"
   ]
  },
  {
   "cell_type": "code",
   "execution_count": 519,
   "metadata": {},
   "outputs": [
    {
     "data": {
      "image/png": "[encoded data removed]",
      "text/plain": [
       "<Figure size 1000x500 with 2 Axes>"
      ]
     },
     "metadata": {},
     "output_type": "display_data"
    }
   ],
   "source": [
    "sf.histogramas_homocedasticidad(df_users, \"sistema_usuario\", \"click_rate\")"
   ]
  },
  {
   "cell_type": "code",
   "execution_count": 522,
   "metadata": {},
   "outputs": [
    {
     "name": "stdout",
     "output_type": "stream",
     "text": [
      "Test Mann-Whitney\n",
      "Siendo el p-valor 0.8643, no existen diferencias significativas entre los grupos.\n"
     ]
    }
   ],
   "source": [
    "grupos_sesiones = sf.crear_df_grupos(df_users, \"sistema_usuario\", \"click_rate\")\n",
    "sf.elegir_test(grupos_sesiones)"
   ]
  },
  {
   "cell_type": "markdown",
   "metadata": {},
   "source": [
    "## Conclusiones"
   ]
  }
 ],
 "metadata": {
  "kernelspec": {
   "display_name": "Python 3",
   "language": "python",
   "name": "python3"
  },
  "language_info": {
   "codemirror_mode": {
    "name": "ipython",
    "version": 3
   },
   "file_extension": ".py",
   "mimetype": "text/x-python",
   "name": "python",
   "nbconvert_exporter": "python",
   "pygments_lexer": "ipython3",
   "version": "3.9.6"
  }
 },
 "nbformat": 4,
 "nbformat_minor": 2
}
